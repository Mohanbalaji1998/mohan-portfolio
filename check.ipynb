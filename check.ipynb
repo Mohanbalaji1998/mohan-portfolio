{
 "cells": [
  {
   "cell_type": "code",
   "execution_count": 1,
   "metadata": {},
   "outputs": [],
   "source": [
    "import pandas as pd"
   ]
  },
  {
   "cell_type": "code",
   "execution_count": 19,
   "metadata": {},
   "outputs": [
    {
     "name": "stdout",
     "output_type": "stream",
     "text": [
      "The size of brain areas grows depending on their usage. Indeed, it was found that taxi drivers in London had a brain that was significantly bigger than average. Not surprisingly, they had to learn to navigate among 25,000 streets\n"
     ]
    }
   ],
   "source": [
    "quotes = pd.read_csv(\"template/quotes.csv\").sample(n=1)['Quotes'].values[0]\n",
    "template_vars = {\n",
    "    \"quotes\" : quotes\n",
    "}"
   ]
  },
  {
   "cell_type": "code",
   "execution_count": 27,
   "metadata": {},
   "outputs": [
    {
     "name": "stdout",
     "output_type": "stream",
     "text": [
      "Typically the human brain is 2% of the total body weight, although it consumes 20% of its total energy and oxygen intake\n"
     ]
    }
   ],
   "source": [
    "from jinja2 import Environment, FileSystemLoader\n",
    "import pandas as pd\n",
    "\n",
    "quotes = pd.read_csv(\"template/facts.csv\").sample(n=1)['Quotes'].values[0]\n",
    "template_vars = {\n",
    "        \"quotes\" : quotes\n",
    "    }\n",
    "print(quotes)\n",
    "env = Environment(loader=FileSystemLoader(\"template\"))\n",
    "template = env.get_template(\"template.html\")\n",
    "output_from_parsed_template = template.render(template_vars)\n",
    "\n",
    "with open(\"index.html\", \"w+\") as fh:\n",
    "    fh.write(output_from_parsed_template)"
   ]
  },
  {
   "cell_type": "code",
   "execution_count": 14,
   "metadata": {},
   "outputs": [],
   "source": [
    "from jinja2 import Environment, FileSystemLoader\n",
    "import pandas as pd\n",
    "import datetime\n",
    "import pytz\n",
    "\n",
    "current_time = datetime.datetime.now(pytz.timezone('Asia/Kolkata'))\n",
    "format_time = current_time.strftime(\"%Y-%m-%d %H:%M:%S\")\n",
    "template_vars = {\n",
    "        \"timestamp\" : format_time\n",
    "    }\n",
    "\n",
    "env = Environment(loader=FileSystemLoader(\"template\"))\n",
    "template = env.get_template(\"readme.html\")\n",
    "output_from_parsed_template = template.render(template_vars)\n",
    "with open(\"README.md\", \"w+\") as fh:\n",
    "    fh.write(output_from_parsed_template)"
   ]
  }
 ],
 "metadata": {
  "kernelspec": {
   "display_name": "env",
   "language": "python",
   "name": "python3"
  },
  "language_info": {
   "codemirror_mode": {
    "name": "ipython",
    "version": 3
   },
   "file_extension": ".py",
   "mimetype": "text/x-python",
   "name": "python",
   "nbconvert_exporter": "python",
   "pygments_lexer": "ipython3",
   "version": "3.10.4"
  }
 },
 "nbformat": 4,
 "nbformat_minor": 2
}
